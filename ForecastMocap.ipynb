{
 "cells": [
  {
   "cell_type": "code",
   "execution_count": 1,
   "id": "e2bb69a9",
   "metadata": {},
   "outputs": [],
   "source": [
    "import pandas as pd\n",
    "import numpy as np\n",
    "import matplotlib.pyplot as plt\n",
    "from mpl_toolkits.mplot3d import Axes3D\n",
    "import matplotlib.animation as animation\n",
    "import ipywidgets as widgets\n",
    "from ipywidgets import HBox, VBox, interact\n",
    "from IPython.display import display\n",
    "from model import *\n",
    "from utils.loss_funcs import mpjpe_error\n",
    "import torch\n",
    "%matplotlib inline\n",
    "\n",
    "csv_name = 'Mixing_And_Stirring_1.csv'\n",
    "df = pd.read_csv('Mixing_And_Stirring_1.csv', header=None,skiprows=2, low_memory=False)\n",
    "# Markers start from column 378\n",
    "joints_to_idx = {}\n",
    "for idx, marker_name in enumerate(list(df.iloc[1])[378:]):\n",
    "    joints_to_idx[marker_name] = len(joints_to_idx)-1"
   ]
  },
  {
   "cell_type": "code",
   "execution_count": 4,
   "id": "6080be88",
   "metadata": {},
   "outputs": [
    {
     "data": {
      "text/plain": [
       "{'Skeleton:BackLeft': 0,\n",
       " 'Skeleton:BackRight': 1,\n",
       " 'Skeleton:BackTop': 2,\n",
       " 'Skeleton:Chest': 3,\n",
       " 'Skeleton:HeadFront': 4,\n",
       " 'Skeleton:HeadSide': 5,\n",
       " 'Skeleton:HeadTop': 6,\n",
       " 'Skeleton:LElbowOut': 7,\n",
       " 'Skeleton:LHandOut': 8,\n",
       " 'Skeleton:LShoulderBack': 9,\n",
       " 'Skeleton:LShoulderTop': 10,\n",
       " 'Skeleton:LUArmHigh': 11,\n",
       " 'Skeleton:LWristIn': 12,\n",
       " 'Skeleton:LWristOut': 13,\n",
       " 'Skeleton:RElbowOut': 14,\n",
       " 'Skeleton:RHandOut': 15,\n",
       " 'Skeleton:RShoulderBack': 16,\n",
       " 'Skeleton:RShoulderTop': 17,\n",
       " 'Skeleton:RUArmHigh': 18,\n",
       " 'Skeleton:RWristIn': 19,\n",
       " 'Skeleton:RWristOut': 20,\n",
       " 'Skeleton:WaistLBack': 21,\n",
       " 'Skeleton:WaistLFront': 22,\n",
       " 'Skeleton:WaistRBack': 23,\n",
       " 'Skeleton:WaistRFront': 24}"
      ]
     },
     "execution_count": 4,
     "metadata": {},
     "output_type": "execute_result"
    }
   ],
   "source": [
    "joints_to_idx"
   ]
  },
  {
   "cell_type": "code",
   "execution_count": 2,
   "id": "656501b4",
   "metadata": {},
   "outputs": [],
   "source": [
    "frames = np.array(df.iloc[5:], dtype=float)[:, 378:].reshape(-1, 25, 3)/1000\n",
    "skip_rate = 5\n",
    "select_frames = np.array(range(len(frames)//skip_rate))*skip_rate\n",
    "skipped_frames = frames[select_frames]"
   ]
  },
  {
   "cell_type": "code",
   "execution_count": 3,
   "id": "82989486",
   "metadata": {},
   "outputs": [
    {
     "name": "stdout",
     "output_type": "stream",
     "text": [
      "\n"
     ]
    }
   ],
   "source": [
    "model_path = '/home/kushal/human_forecasting/STSGCN/checkpoints/mocap_new/amass_3d_25frames_ckpt'\n",
    "\n",
    "input_dim = 3\n",
    "input_n = 10\n",
    "output_n = 25\n",
    "st_gcnn_dropout = 0.1\n",
    "joints_to_consider = 7\n",
    "n_tcnn_layers = 4\n",
    "tcnn_kernel_size = [3,3]\n",
    "tcnn_dropout = 0.0\n",
    "\n",
    "model = Model(input_dim, input_n, output_n,st_gcnn_dropout, joints_to_consider,\n",
    "              n_tcnn_layers, tcnn_kernel_size, tcnn_dropout).to('cpu')\n",
    "model.load_state_dict(torch.load(model_path, map_location=torch.device('cpu')))\n",
    "model.eval()\n",
    "print()"
   ]
  },
  {
   "cell_type": "code",
   "execution_count": 5,
   "id": "383c6ea8",
   "metadata": {},
   "outputs": [],
   "source": [
    "def create_pose(ax,plots,vals,pred=True,update=False, hist = True):\n",
    "    connect = [ (9, 2), (2, 16), ##torso_up\n",
    "               (9, 7), (7, 13), ##leftarm\n",
    "               (16, 14), (14, 20), ##rightarm\n",
    "               (9, 21), (16, 23), (21, 23), ##torso_boundary\n",
    "              ]\n",
    "\n",
    "# Start and endpoints of our representation\n",
    "    I   = np.array([touple[0] for touple in connect])\n",
    "    J   = np.array([touple[1] for touple in connect])\n",
    "\n",
    "    pred_color = \"#af8dc3\"\n",
    "    gt_color = \"#7fbf7b\"\n",
    "    hist_color = \"#383838\"\n",
    "    if hist:\n",
    "        color = hist_color\n",
    "    elif pred:\n",
    "        color = pred_color\n",
    "    else:\n",
    "        color = gt_color\n",
    "\n",
    "    for i in np.arange( len(I) ):\n",
    "        x = np.array( [vals[I[i], 0], vals[J[i], 0]] )\n",
    "        z = np.array( [vals[I[i], 1], vals[J[i], 1]] )\n",
    "        y = np.array( [vals[I[i], 2], vals[J[i], 2]] )\n",
    "        if not update:\n",
    "\n",
    "            if i ==0:\n",
    "                plots.append(ax.plot(x, y, z, lw=2,linestyle='--' ,c=pred_color if pred else gt_color,label=['GT' if not pred else 'Pred']))\n",
    "                plots[i][0].set_color(color)\n",
    "            else:\n",
    "                plots.append(ax.plot(x, y, z, lw=2,linestyle='--', c=color))\n",
    "\n",
    "        elif update:\n",
    "            plots[i][0].set_xdata(x)\n",
    "            plots[i][0].set_ydata(y)\n",
    "            plots[i][0].set_3d_properties(z)\n",
    "            plots[i][0].set_color(color)\n",
    "    \n",
    "    return plots\n",
    "\n",
    "\n",
    "def update(num,data_gt,data_pred,plots_gt,plots_pred,fig,ax):\n",
    "    gt_vals=data_gt[num]\n",
    "    pred_vals=data_pred[num]\n",
    "    if num < input_n:\n",
    "        hist = True\n",
    "    else:\n",
    "        hist = False\n",
    "    plots_gt=create_pose(ax,plots_gt,gt_vals,pred=False,update=True, hist=hist)\n",
    "    plots_pred=create_pose(ax,plots_pred,pred_vals,pred=True,update=True, hist=hist)\n",
    "    \n",
    "    r = 0.75\n",
    "    if num == 0:\n",
    "        xroot, zroot, yroot = gt_vals[0,0], gt_vals[0,1], gt_vals[0,2]\n",
    "        ax.set_xlim3d([-r+xroot, r+xroot])\n",
    "        ax.set_zlim3d([-r+zroot, r+zroot])\n",
    "        ax.set_ylim3d([-r+yroot, r+yroot])\n",
    " \n",
    "    return plots_gt,plots_pred"
   ]
  },
  {
   "cell_type": "code",
   "execution_count": 7,
   "id": "ae416051",
   "metadata": {},
   "outputs": [
    {
     "data": {
      "text/plain": [
       "{'Skeleton:BackLeft': 0,\n",
       " 'Skeleton:BackRight': 1,\n",
       " 'Skeleton:BackTop': 2,\n",
       " 'Skeleton:Chest': 3,\n",
       " 'Skeleton:HeadFront': 4,\n",
       " 'Skeleton:HeadSide': 5,\n",
       " 'Skeleton:HeadTop': 6,\n",
       " 'Skeleton:LElbowOut': 7,\n",
       " 'Skeleton:LHandOut': 8,\n",
       " 'Skeleton:LShoulderBack': 9,\n",
       " 'Skeleton:LShoulderTop': 10,\n",
       " 'Skeleton:LUArmHigh': 11,\n",
       " 'Skeleton:LWristIn': 12,\n",
       " 'Skeleton:LWristOut': 13,\n",
       " 'Skeleton:RElbowOut': 14,\n",
       " 'Skeleton:RHandOut': 15,\n",
       " 'Skeleton:RShoulderBack': 16,\n",
       " 'Skeleton:RShoulderTop': 17,\n",
       " 'Skeleton:RUArmHigh': 18,\n",
       " 'Skeleton:RWristIn': 19,\n",
       " 'Skeleton:RWristOut': 20,\n",
       " 'Skeleton:WaistLBack': 21,\n",
       " 'Skeleton:WaistLFront': 22,\n",
       " 'Skeleton:WaistRBack': 23,\n",
       " 'Skeleton:WaistRFront': 24}"
      ]
     },
     "execution_count": 7,
     "metadata": {},
     "output_type": "execute_result"
    }
   ],
   "source": [
    "joints_to_idx"
   ]
  },
  {
   "cell_type": "code",
   "execution_count": 9,
   "id": "05a2a590",
   "metadata": {
    "scrolled": false
   },
   "outputs": [
    {
     "name": "stdout",
     "output_type": "stream",
     "text": [
      "torch.Size([1, 35, 25, 3])\n",
      "torch.Size([1, 3, 10, 7])\n"
     ]
    },
    {
     "ename": "KeyboardInterrupt",
     "evalue": "Interrupted by user",
     "output_type": "error",
     "traceback": [
      "\u001b[0;31m---------------------------------------------------------------------------\u001b[0m",
      "\u001b[0;31mKeyboardInterrupt\u001b[0m                         Traceback (most recent call last)",
      "Cell \u001b[0;32mIn[9], line 19\u001b[0m\n\u001b[1;32m     17\u001b[0m sequences_predict_gt\u001b[38;5;241m=\u001b[39mbatch[:,:input_n\u001b[38;5;241m+\u001b[39moutput_n,:,:]\n\u001b[1;32m     18\u001b[0m \u001b[38;5;28mprint\u001b[39m(sequences_train\u001b[38;5;241m.\u001b[39mshape)\n\u001b[0;32m---> 19\u001b[0m \u001b[38;5;28;43minput\u001b[39;49m\u001b[43m(\u001b[49m\u001b[43m)\u001b[49m\n\u001b[1;32m     20\u001b[0m sequences_predict\u001b[38;5;241m=\u001b[39mmodel(sequences_train)\u001b[38;5;241m.\u001b[39mpermute(\u001b[38;5;241m0\u001b[39m,\u001b[38;5;241m1\u001b[39m,\u001b[38;5;241m3\u001b[39m,\u001b[38;5;241m2\u001b[39m)\n\u001b[1;32m     21\u001b[0m all_joints_seq\u001b[38;5;241m=\u001b[39msequences_predict_gt\u001b[38;5;241m.\u001b[39mclone()\n",
      "File \u001b[0;32m~/anaconda3/envs/amass/lib/python3.9/site-packages/ipykernel/kernelbase.py:1175\u001b[0m, in \u001b[0;36mKernel.raw_input\u001b[0;34m(self, prompt)\u001b[0m\n\u001b[1;32m   1171\u001b[0m \u001b[38;5;28;01mif\u001b[39;00m \u001b[38;5;129;01mnot\u001b[39;00m \u001b[38;5;28mself\u001b[39m\u001b[38;5;241m.\u001b[39m_allow_stdin:\n\u001b[1;32m   1172\u001b[0m     \u001b[38;5;28;01mraise\u001b[39;00m StdinNotImplementedError(\n\u001b[1;32m   1173\u001b[0m         \u001b[38;5;124m\"\u001b[39m\u001b[38;5;124mraw_input was called, but this frontend does not support input requests.\u001b[39m\u001b[38;5;124m\"\u001b[39m\n\u001b[1;32m   1174\u001b[0m     )\n\u001b[0;32m-> 1175\u001b[0m \u001b[38;5;28;01mreturn\u001b[39;00m \u001b[38;5;28;43mself\u001b[39;49m\u001b[38;5;241;43m.\u001b[39;49m\u001b[43m_input_request\u001b[49m\u001b[43m(\u001b[49m\n\u001b[1;32m   1176\u001b[0m \u001b[43m    \u001b[49m\u001b[38;5;28;43mstr\u001b[39;49m\u001b[43m(\u001b[49m\u001b[43mprompt\u001b[49m\u001b[43m)\u001b[49m\u001b[43m,\u001b[49m\n\u001b[1;32m   1177\u001b[0m \u001b[43m    \u001b[49m\u001b[38;5;28;43mself\u001b[39;49m\u001b[38;5;241;43m.\u001b[39;49m\u001b[43m_parent_ident\u001b[49m\u001b[43m[\u001b[49m\u001b[38;5;124;43m\"\u001b[39;49m\u001b[38;5;124;43mshell\u001b[39;49m\u001b[38;5;124;43m\"\u001b[39;49m\u001b[43m]\u001b[49m\u001b[43m,\u001b[49m\n\u001b[1;32m   1178\u001b[0m \u001b[43m    \u001b[49m\u001b[38;5;28;43mself\u001b[39;49m\u001b[38;5;241;43m.\u001b[39;49m\u001b[43mget_parent\u001b[49m\u001b[43m(\u001b[49m\u001b[38;5;124;43m\"\u001b[39;49m\u001b[38;5;124;43mshell\u001b[39;49m\u001b[38;5;124;43m\"\u001b[39;49m\u001b[43m)\u001b[49m\u001b[43m,\u001b[49m\n\u001b[1;32m   1179\u001b[0m \u001b[43m    \u001b[49m\u001b[43mpassword\u001b[49m\u001b[38;5;241;43m=\u001b[39;49m\u001b[38;5;28;43;01mFalse\u001b[39;49;00m\u001b[43m,\u001b[49m\n\u001b[1;32m   1180\u001b[0m \u001b[43m\u001b[49m\u001b[43m)\u001b[49m\n",
      "File \u001b[0;32m~/anaconda3/envs/amass/lib/python3.9/site-packages/ipykernel/kernelbase.py:1217\u001b[0m, in \u001b[0;36mKernel._input_request\u001b[0;34m(self, prompt, ident, parent, password)\u001b[0m\n\u001b[1;32m   1214\u001b[0m             \u001b[38;5;28;01mbreak\u001b[39;00m\n\u001b[1;32m   1215\u001b[0m \u001b[38;5;28;01mexcept\u001b[39;00m \u001b[38;5;167;01mKeyboardInterrupt\u001b[39;00m:\n\u001b[1;32m   1216\u001b[0m     \u001b[38;5;66;03m# re-raise KeyboardInterrupt, to truncate traceback\u001b[39;00m\n\u001b[0;32m-> 1217\u001b[0m     \u001b[38;5;28;01mraise\u001b[39;00m \u001b[38;5;167;01mKeyboardInterrupt\u001b[39;00m(\u001b[38;5;124m\"\u001b[39m\u001b[38;5;124mInterrupted by user\u001b[39m\u001b[38;5;124m\"\u001b[39m) \u001b[38;5;28;01mfrom\u001b[39;00m \u001b[38;5;28mNone\u001b[39m\n\u001b[1;32m   1218\u001b[0m \u001b[38;5;28;01mexcept\u001b[39;00m \u001b[38;5;167;01mException\u001b[39;00m:\n\u001b[1;32m   1219\u001b[0m     \u001b[38;5;28mself\u001b[39m\u001b[38;5;241m.\u001b[39mlog\u001b[38;5;241m.\u001b[39mwarning(\u001b[38;5;124m\"\u001b[39m\u001b[38;5;124mInvalid Message:\u001b[39m\u001b[38;5;124m\"\u001b[39m, exc_info\u001b[38;5;241m=\u001b[39m\u001b[38;5;28;01mTrue\u001b[39;00m)\n",
      "\u001b[0;31mKeyboardInterrupt\u001b[0m: Interrupted by user"
     ]
    }
   ],
   "source": [
    "cap_frame_length = len(skipped_frames)\n",
    "\n",
    "input_n = 10\n",
    "output_n = 25\n",
    "\n",
    "joint_used = np.array([12, 16, 17, 18, 19, 20, 21])\n",
    "joint_used = np.array([2, 9, 16, 7, 14, 13, 20])\n",
    "\n",
    "losses, preds, gts = [], [], []\n",
    "\n",
    "for start in range(input_n, cap_frame_length-input_n-output_n):\n",
    "    batch = torch.from_numpy(skipped_frames[None, start:start+input_n+output_n]).float()\n",
    "    print(batch.shape)\n",
    "    batch = batch[:, :, :, :] - batch[:, 0:1, 21:22, :]\n",
    "    \n",
    "    sequences_train=batch[:,0:input_n,joint_used,:].permute(0,3,1,2)\n",
    "    sequences_predict_gt=batch[:,:input_n+output_n,:,:]\n",
    "    print(sequences_train.shape)\n",
    "    input()\n",
    "    sequences_predict=model(sequences_train).permute(0,1,3,2)\n",
    "    all_joints_seq=sequences_predict_gt.clone()\n",
    "    all_joints_seq[:,input_n:,joint_used,:]=sequences_predict\n",
    "    \n",
    "    relevant_pred = all_joints_seq[:, input_n:, joint_used, :]\n",
    "    relevant_gt = sequences_predict_gt[:, input_n:, joint_used, :]\n",
    "\n",
    "    loss=mpjpe_error(relevant_pred,relevant_gt)*1000# # both must have format (batch,T,V,C)\n",
    "\n",
    "    data_pred=torch.squeeze(all_joints_seq,0).cpu().data.numpy()\n",
    "    data_gt=torch.squeeze(sequences_predict_gt,0).cpu().data.numpy()\n",
    "\n",
    "#     if torch.isnan(loss):\n",
    "#         continue\n",
    "        \n",
    "    preds.append(data_pred)\n",
    "    gts.append(data_gt)\n",
    "    losses.append(loss.item())\n",
    "#     fig = plt.figure()\n",
    "#     ax = Axes3D(fig)\n",
    "#     vals = np.zeros((22, 3))\n",
    "#     gt_plots=[]\n",
    "#     pred_plots=[]\n",
    "\n",
    "#     gt_plots=create_pose(ax,gt_plots,data_gt[0],pred=False,update=False, hist=False)\n",
    "#     pred_plots=create_pose(ax,pred_plots,data_pred[0],pred=True,update=False, hist=False)\n",
    "\n",
    "#     ax.legend(loc='lower left')\n",
    "#     ax.set_title('loss in mm is: '+str(round(loss.item(),4))+' for frames= '+str(output_n))\n",
    "\n",
    "# #     print('loss in mm is: '+str(round(loss.item(),4))+' for frames= '+str(output_n))\n",
    "#     line_anim = animation.FuncAnimation(fig, update, input_n+output_n, fargs=(data_gt,data_pred,gt_plots,pred_plots\n",
    "#                                                                ,fig,ax),interval=70, blit=False)\n",
    "\n",
    "#     loss = int(round(float(loss), 0))\n",
    "#     line_anim.save(f'viz_mocap/{start-input_n}_{loss}.gif')"
   ]
  },
  {
   "cell_type": "code",
   "execution_count": 6,
   "id": "fb156e6c",
   "metadata": {},
   "outputs": [
    {
     "data": {
      "image/png": "[encoded data removed]",
      "text/plain": [
       "<Figure size 432x288 with 3 Axes>"
      ]
     },
     "metadata": {
      "needs_background": "light"
     },
     "output_type": "display_data"
    }
   ],
   "source": [
    "freq = 25\n",
    "times = np.array(range(len(losses)))/freq\n",
    "t = 1\n",
    "\n",
    "fig = plt.figure()\n",
    "fig.suptitle('Vertically stacked subplots')\n",
    "ax1 = fig.add_subplot(2,1,1)\n",
    "ax2 = fig.add_subplot(2,2,3, projection='3d')\n",
    "ax3 = fig.add_subplot(2,2,4, projection='3d')\n",
    "\n",
    "ax1.plot(times, losses)\n",
    "marker = ax1.scatter(t, losses[t*freq], s=70, color='r')\n",
    "# plt.xlabel('Time (in seconds)', fontsize=14)\n",
    "# plt.ylabel('Mean Joint Position Error (in mm)',fontsize=14)\n",
    "# marker = plt.scatter(t, losses[t*freq], marker='o', s=70, color='r')\n",
    "\n",
    "\n",
    "# ax = Axes3D(fig)\n",
    "vals = np.zeros((22, 3))\n",
    "gt_plots=[]\n",
    "pred_plots=[]\n",
    "\n",
    "gt_plots=create_pose(ax2,gt_plots,gts[t][0],pred=False,update=False, hist=False)\n",
    "pred_plots=create_pose(ax3,pred_plots,preds[t][0],pred=True,update=False, hist=False)\n",
    "# plt.show()"
   ]
  },
  {
   "cell_type": "code",
   "execution_count": 16,
   "id": "321f94f3",
   "metadata": {},
   "outputs": [
    {
     "data": {
      "text/plain": [
       "35"
      ]
     },
     "execution_count": 16,
     "metadata": {},
     "output_type": "execute_result"
    }
   ],
   "source": [
    "len(gts[0])"
   ]
  },
  {
   "cell_type": "code",
   "execution_count": 27,
   "id": "af308890",
   "metadata": {},
   "outputs": [],
   "source": [
    "import numpy as np\n",
    "import matplotlib.pyplot as plt\n",
    "from matplotlib.widgets import Slider, Button\n",
    "%matplotlib tk\n",
    "\n",
    "freq = 25\n",
    "times = np.array(range(len(losses)))/freq\n",
    "t = 1\n",
    "\n",
    "fig = plt.figure()\n",
    "fig.set_size_inches(10, 20)\n",
    "fig.suptitle('Loss over Time Animation', fontsize = 30)\n",
    "ax1 = fig.add_subplot(2,1,1)\n",
    "ax2 = fig.add_subplot(2,2,3, projection='3d')\n",
    "ax3 = fig.add_subplot(2,2,4, projection='3d')\n",
    "\n",
    "ax1.plot(times, losses)\n",
    "marker = ax1.scatter(t, losses[t*freq], s=70, color='r')\n",
    "vals = np.zeros((22, 3))\n",
    "\n",
    "gt_plots=[]\n",
    "pred_plots=[]\n",
    "\n",
    "gt_plots=create_pose(ax2,gt_plots,gts[t*freq][-1],pred=False,update=False, hist=False)\n",
    "pred_plots=create_pose(ax3,pred_plots,preds[t*freq][-1],pred=True,update=False, hist=False)\n",
    "\n",
    "# adjust the main plot to make room for the sliders\n",
    "fig.subplots_adjust(bottom=0.25)\n",
    "\n",
    "# Make a horizontal slider to control the frequency.\n",
    "axtime = fig.add_axes([0.25, 0.1, 0.65, 0.03])\n",
    "time_slider = Slider(\n",
    "    ax=axtime,\n",
    "    label='Time (s)',\n",
    "    valmin=0,\n",
    "    valmax=35,\n",
    "    valinit=1,\n",
    ")\n",
    "\n",
    "\n",
    "# The function to be called anytime a slider's value changes\n",
    "def update(t):\n",
    "#     t = int(t)\n",
    "    marker.set_offsets([t, losses[int(t*freq)]])\n",
    "    create_pose(ax2,gt_plots,gts[int(t*freq)][-1],pred=False,update=True, hist=False)\n",
    "    create_pose(ax3,pred_plots,preds[int(t*freq)][-1],pred=True,update=True, hist=False)\n",
    "    fig.canvas.draw_idle()\n",
    "\n",
    "\n",
    "# register the update function with each slider\n",
    "time_slider.on_changed(update)\n",
    "\n",
    "# Create a `matplotlib.widgets.Button` to reset the sliders to initial values.\n",
    "resetax = fig.add_axes([0.8, 0.025, 0.1, 0.04])\n",
    "button = Button(resetax, 'Reset', hovercolor='0.975')\n",
    "\n",
    "\n",
    "def reset(event):\n",
    "    time_slider.reset()\n",
    "\n",
    "button.on_clicked(reset)\n",
    "\n",
    "# fig.tight_layout()\n",
    "\n",
    "plt.show()"
   ]
  },
  {
   "cell_type": "code",
   "execution_count": null,
   "id": "2e53c5af",
   "metadata": {},
   "outputs": [],
   "source": []
  }
 ],
 "metadata": {
  "kernelspec": {
   "display_name": "Python 3 (ipykernel)",
   "language": "python",
   "name": "python3"
  },
  "language_info": {
   "codemirror_mode": {
    "name": "ipython",
    "version": 3
   },
   "file_extension": ".py",
   "mimetype": "text/x-python",
   "name": "python",
   "nbconvert_exporter": "python",
   "pygments_lexer": "ipython3",
   "version": "3.9.16"
  }
 },
 "nbformat": 4,
 "nbformat_minor": 5
}
